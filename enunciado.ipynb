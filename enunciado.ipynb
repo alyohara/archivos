# This is the enunciado.ipynb file for the Vowel and Consonant Files assignment.

# Import the necessary modules.

# Define a list of vowels.

# Create the "unab" folder.

# Create text files for each letter of the alphabet.
    # Check if the letter is a vowel.

    # Write the appropriate content to the file.

# Test if the files were created correctly.

    # Check the content of the file.
  
