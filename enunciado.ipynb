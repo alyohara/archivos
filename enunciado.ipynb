# This is the enunciado.ipynb file for the Vowel and Consonant Files assignment.

# Import the necessary modules.
import pathlib
import os

# Define a list of vowels.
vowels = ["a", "e", "i", "o", "u"]

# Create the "unab" folder.
unab_folder = pathlib.Path("unab")
unab_folder.mkdir(parents=True, exist_ok=True)

# Create text files for each letter of the alphabet.
for letter in "abcdefghijklmnopqrstuvwxyz":
    file_path = unab_folder / f"{letter}.txt"

    # Check if the letter is a vowel.
    is_vowel = letter in vowels

    # Write the appropriate content to the file.
    with open(file_path, "w") as file:
        if is_vowel:
            file.write("i am a vowel file")
        else:
            file.write("i am a consonant file")

# Test if the files were created correctly.
for letter in "abcdefghijklmnopqrstuvwxyz":
    file_path = unab_folder / f"{letter}.txt"
    assert file_path.exists()

    # Check the content of the file.
    with open(file_path, "r") as file:
        content = file.read()

        if letter in vowels:
            assert content == "i am a vowel file"
        else:
            assert content == "i am a consonant file"
